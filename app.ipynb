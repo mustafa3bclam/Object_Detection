{
 "cells": [
  {
   "cell_type": "code",
   "execution_count": 17,
   "metadata": {},
   "outputs": [
    {
     "name": "stdout",
     "output_type": "stream",
     "text": [
      "Overwriting Object_detection.py\n"
     ]
    }
   ],
   "source": [
    "%%writefile Object_detection.py\n",
    "\n",
    "import streamlit as st\n",
    "import cv2  \n",
    "import numpy as np  \n",
    "import mediapipe as mp\n",
    "from mediapipe.tasks import python\n",
    "from mediapipe.tasks.python import vision\n",
    "\n",
    "\n",
    "\n",
    "MARGIN = 10  # pixels\n",
    "ROW_SIZE = 10  # pixels\n",
    "FONT_SIZE = 1\n",
    "FONT_THICKNESS = 1\n",
    "TEXT_COLOR = (255, 0, 0)  # red\n",
    "\n",
    "\n",
    "def visualize(\n",
    "    image,\n",
    "    detection_result\n",
    ") -> np.ndarray:\n",
    "    \"\"\"Draws bounding boxes on the input image and return it.\n",
    "    Args:\n",
    "        image: The input RGB image.\n",
    "        detection_result: The list of all \"Detection\" entities to be visualize.\n",
    "    Returns:\n",
    "        Image with bounding boxes.\n",
    "    \"\"\"\n",
    "    for detection in detection_result.detections:\n",
    "        # Draw bounding_box\n",
    "        bbox = detection.bounding_box\n",
    "        start_point = bbox.origin_x, bbox.origin_y\n",
    "        end_point = bbox.origin_x + bbox.width, bbox.origin_y + bbox.height\n",
    "        cv2.rectangle(image, start_point, end_point, TEXT_COLOR, 3)\n",
    "\n",
    "        # Draw label and score\n",
    "        category = detection.categories[0]\n",
    "        category_name = category.category_name\n",
    "        probability = round(category.score, 2)\n",
    "        result_text = category_name + ' (' + str(probability) + ')'\n",
    "        text_location = (MARGIN + bbox.origin_x,\n",
    "                        MARGIN + ROW_SIZE + bbox.origin_y)\n",
    "        cv2.putText(image, result_text, text_location, cv2.FONT_HERSHEY_PLAIN,\n",
    "                    FONT_SIZE, TEXT_COLOR, FONT_THICKNESS)\n",
    "    return image\n",
    "\n",
    "# STEP 2: Create an ObjectDetector object.\n",
    "base_options = python.BaseOptions(model_asset_path=\"efficientdet_lite0.tflite\")\n",
    "options = vision.ObjectDetectorOptions(base_options=base_options,\n",
    "                                    score_threshold=0.5)\n",
    "detector = vision.ObjectDetector.create_from_options(options)\n",
    "\n",
    "### GUI\n",
    "\n",
    "st.title(\"Object Detection App\")\n",
    "\n",
    "upload_img = st.file_uploader(\"Upload an image....\", type=[\"jpg\", \"jpeg\", \"png\"])\n",
    "\n",
    "if upload_img is not None:\n",
    "    file_bytes = np.asarray(bytearray(upload_img.read()), dtype=np.uint8)\n",
    "    image = cv2.imdecode(file_bytes, 1)\n",
    "    image = cv2.cvtColor(image, cv2.COLOR_BGR2RGB)\n",
    "    \n",
    "    st.image(image, caption=\"Uploaded Img...\")\n",
    "    mp_image = mp.Image(image_format=mp.ImageFormat.SRGB, data=image)\n",
    "    detection_result = detector.process(mp_image)\n",
    "    annotated_image = visualize(image, detection_result)\n",
    "    \n",
    "    st.image(annotated_image, caption=\"Detection Img...\")\n",
    "\n",
    "    "
   ]
  },
  {
   "cell_type": "code",
   "execution_count": null,
   "metadata": {},
   "outputs": [],
   "source": []
  }
 ],
 "metadata": {
  "kernelspec": {
   "display_name": "base",
   "language": "python",
   "name": "python3"
  },
  "language_info": {
   "codemirror_mode": {
    "name": "ipython",
    "version": 3
   },
   "file_extension": ".py",
   "mimetype": "text/x-python",
   "name": "python",
   "nbconvert_exporter": "python",
   "pygments_lexer": "ipython3",
   "version": "3.12.3"
  }
 },
 "nbformat": 4,
 "nbformat_minor": 2
}
